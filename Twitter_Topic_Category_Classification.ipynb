{
  "nbformat": 4,
  "nbformat_minor": 0,
  "metadata": {
    "colab": {
      "name": "Twitter Topic/Category Classification.ipynb",
      "provenance": [],
      "collapsed_sections": [],
      "authorship_tag": "ABX9TyOAsjh77ubaiqkopKBdjhmD",
      "include_colab_link": true
    },
    "kernelspec": {
      "name": "python3",
      "display_name": "Python 3"
    },
    "language_info": {
      "name": "python"
    }
  },
  "cells": [
    {
      "cell_type": "markdown",
      "metadata": {
        "id": "view-in-github",
        "colab_type": "text"
      },
      "source": [
        "<a href=\"https://colab.research.google.com/github/apschlissel/w266-final-project/blob/main/Twitter_Topic_Category_Classification.ipynb\" target=\"_parent\"><img src=\"https://colab.research.google.com/assets/colab-badge.svg\" alt=\"Open In Colab\"/></a>"
      ]
    },
    {
      "cell_type": "code",
      "execution_count": 1,
      "metadata": {
        "colab": {
          "base_uri": "https://localhost:8080/"
        },
        "id": "ICAgI-Q1AcR_",
        "outputId": "bc27269d-eebf-412c-a998-384910f32a2a"
      },
      "outputs": [
        {
          "output_type": "stream",
          "name": "stdout",
          "text": [
            "Requirement already satisfied: tweepy in /usr/local/lib/python3.7/dist-packages (3.10.0)\n",
            "Requirement already satisfied: requests[socks]>=2.11.1 in /usr/local/lib/python3.7/dist-packages (from tweepy) (2.23.0)\n",
            "Requirement already satisfied: requests-oauthlib>=0.7.0 in /usr/local/lib/python3.7/dist-packages (from tweepy) (1.3.1)\n",
            "Requirement already satisfied: six>=1.10.0 in /usr/local/lib/python3.7/dist-packages (from tweepy) (1.15.0)\n",
            "Requirement already satisfied: oauthlib>=3.0.0 in /usr/local/lib/python3.7/dist-packages (from requests-oauthlib>=0.7.0->tweepy) (3.2.0)\n",
            "Requirement already satisfied: certifi>=2017.4.17 in /usr/local/lib/python3.7/dist-packages (from requests[socks]>=2.11.1->tweepy) (2021.10.8)\n",
            "Requirement already satisfied: idna<3,>=2.5 in /usr/local/lib/python3.7/dist-packages (from requests[socks]>=2.11.1->tweepy) (2.10)\n",
            "Requirement already satisfied: urllib3!=1.25.0,!=1.25.1,<1.26,>=1.21.1 in /usr/local/lib/python3.7/dist-packages (from requests[socks]>=2.11.1->tweepy) (1.24.3)\n",
            "Requirement already satisfied: chardet<4,>=3.0.2 in /usr/local/lib/python3.7/dist-packages (from requests[socks]>=2.11.1->tweepy) (3.0.4)\n",
            "Requirement already satisfied: PySocks!=1.5.7,>=1.5.6 in /usr/local/lib/python3.7/dist-packages (from requests[socks]>=2.11.1->tweepy) (1.7.1)\n"
          ]
        }
      ],
      "source": [
        "pip install tweepy"
      ]
    },
    {
      "cell_type": "code",
      "source": [
        "import tweepy\n",
        "\n",
        "auth = tweepy.OAuthHandler(\"lUHnftHs4EiJHa6bau1zv1Aum\", \"3hQSDqA99rMPlHUAjGeXQqA8cJakqmJhC3erpuYITCSFCQiwe0\" )\n",
        "auth.set_access_token(\"56585069-EpSJxr7Q5M6d5NhlJzRYpK0FxU9FMNV4TsmCuhYkf\", \"WUYbYtVIDjRHHfyhi6CRYG4MVEbnFluCrb8iIto9Glv9P\")\n",
        "\n",
        "api = tweepy.API(auth)\n",
        "\n",
        "public_tweets = api.home_timeline()\n",
        "for tweet in public_tweets:\n",
        "    print(tweet.text)"
      ],
      "metadata": {
        "colab": {
          "base_uri": "https://localhost:8080/"
        },
        "id": "r6lNqy3MA17D",
        "outputId": "d5abca3c-2dc3-4c0e-c4ef-f3cbac1052bf"
      },
      "execution_count": 2,
      "outputs": [
        {
          "output_type": "stream",
          "name": "stdout",
          "text": [
            "🧐 $HZNP https://t.co/fQbBSaX2iq\n",
            "$INTC Intel shares are trading lower after Barclays maintained an Underweight rating on the stock and lowered its p… https://t.co/fgalppuaox\n",
            "$BABA Shares of Chinese companies are trading lower after Chinese regulators pushed for food delivery platforms to… https://t.co/mC3AUxHZ56\n",
            "RT @sapinker: One of several news feeds that track ongoing progress lost in the usual stream of non-randomly selected disasters &amp; outrages.\n",
            "$ALL Having a good day\n",
            "https://t.co/8o7frtF2Ez\n",
            "ISI's umer suggests $SAGE $BIIB zuranolone doesn't have to compete w/SSRIs...can compete against benzos\n",
            "\n",
            "sure thing, now price it\n",
            "Most loved workplaces $spot $deck $has https://t.co/3W8yXjyPgv https://t.co/qj3Ew3ULdf\n",
            "Solid reporting here, getting this \"news\" out ASAP... https://t.co/O9dmrH1ByP\n",
            "Maybe we got a bit ahead of ourselves… https://t.co/obT6Z4dCtW\n",
            "*DRAGHI: DISCUSSED WITH PUTIN INCREASING GAS SUPPLIES TO ITALY\n",
            "Why Coinbase admitted Apple calls the shots https://t.co/YnknxrY3Wn via @Verge\n",
            "https://t.co/gckPiK3Fuc\n",
            "MACD crossing south on the Dow from extreme territory following the lead of the Nasdaq a couple of weeks back:  https://t.co/8zjJIoMNtO\n",
            "RT @WillieDelwiche: A Friday afternoon fade and the NASDAQ 100 will be in its third largest drawdown in the past decade. $QQQ https://t.co/…\n",
            "All this volatility and we still haven't hit the lower end of the $ES_F weekly options implied expected move to 430… https://t.co/dhilnHd0Eu\n",
            "RT @Fullcarry: March 50bp hike odds getting a beating on Williams' comment\n",
            "it's happening (slowly) https://t.co/F0zm5V0vII\n",
            "RT @chandler_gentry: this slide is absolutely legendary\n",
            "RT @Peter_Eller10: Looks like a big trifecta win here for $BLMN @BarbarianCap https://t.co/YxCMhVq84P\n",
            "Yep https://t.co/pLriN3tEdi\n"
          ]
        }
      ]
    },
    {
      "cell_type": "code",
      "source": [
        "print(public_tweets[0])"
      ],
      "metadata": {
        "colab": {
          "base_uri": "https://localhost:8080/"
        },
        "id": "zg30zWliB3e2",
        "outputId": "a25cf19d-94e2-4644-8260-8c3be8a5fd75"
      },
      "execution_count": 5,
      "outputs": [
        {
          "output_type": "stream",
          "name": "stdout",
          "text": [
            "Status(_api=<tweepy.api.API object at 0x7fa001a71290>, _json={'created_at': 'Fri Feb 18 18:10:14 +0000 2022', 'id': 1494736028720148486, 'id_str': '1494736028720148486', 'text': '🧐 $HZNP https://t.co/fQbBSaX2iq', 'truncated': False, 'entities': {'hashtags': [], 'symbols': [{'text': 'HZNP', 'indices': [2, 7]}], 'user_mentions': [], 'urls': [], 'media': [{'id': 1494735523801448448, 'id_str': '1494735523801448448', 'indices': [8, 31], 'media_url': 'http://pbs.twimg.com/media/FL5eChlXwAANCsD.png', 'media_url_https': 'https://pbs.twimg.com/media/FL5eChlXwAANCsD.png', 'url': 'https://t.co/fQbBSaX2iq', 'display_url': 'pic.twitter.com/fQbBSaX2iq', 'expanded_url': 'https://twitter.com/breadcrumbsre/status/1494736028720148486/photo/1', 'type': 'photo', 'sizes': {'thumb': {'w': 88, 'h': 88, 'resize': 'crop'}, 'small': {'w': 680, 'h': 41, 'resize': 'fit'}, 'medium': {'w': 1200, 'h': 73, 'resize': 'fit'}, 'large': {'w': 1443, 'h': 88, 'resize': 'fit'}}}]}, 'extended_entities': {'media': [{'id': 1494735523801448448, 'id_str': '1494735523801448448', 'indices': [8, 31], 'media_url': 'http://pbs.twimg.com/media/FL5eChlXwAANCsD.png', 'media_url_https': 'https://pbs.twimg.com/media/FL5eChlXwAANCsD.png', 'url': 'https://t.co/fQbBSaX2iq', 'display_url': 'pic.twitter.com/fQbBSaX2iq', 'expanded_url': 'https://twitter.com/breadcrumbsre/status/1494736028720148486/photo/1', 'type': 'photo', 'sizes': {'thumb': {'w': 88, 'h': 88, 'resize': 'crop'}, 'small': {'w': 680, 'h': 41, 'resize': 'fit'}, 'medium': {'w': 1200, 'h': 73, 'resize': 'fit'}, 'large': {'w': 1443, 'h': 88, 'resize': 'fit'}}}, {'id': 1494735776625668103, 'id_str': '1494735776625668103', 'indices': [8, 31], 'media_url': 'http://pbs.twimg.com/media/FL5eRPbXMAcLNRy.jpg', 'media_url_https': 'https://pbs.twimg.com/media/FL5eRPbXMAcLNRy.jpg', 'url': 'https://t.co/fQbBSaX2iq', 'display_url': 'pic.twitter.com/fQbBSaX2iq', 'expanded_url': 'https://twitter.com/breadcrumbsre/status/1494736028720148486/photo/1', 'type': 'photo', 'sizes': {'thumb': {'w': 150, 'h': 150, 'resize': 'crop'}, 'medium': {'w': 1021, 'h': 746, 'resize': 'fit'}, 'large': {'w': 1021, 'h': 746, 'resize': 'fit'}, 'small': {'w': 680, 'h': 497, 'resize': 'fit'}}}]}, 'source': '<a href=\"https://mobile.twitter.com\" rel=\"nofollow\">Twitter Web App</a>', 'in_reply_to_status_id': 1494734131997163520, 'in_reply_to_status_id_str': '1494734131997163520', 'in_reply_to_user_id': 258522742, 'in_reply_to_user_id_str': '258522742', 'in_reply_to_screen_name': 'breadcrumbsre', 'user': {'id': 258522742, 'id_str': '258522742', 'name': 'Bread Crumbs Research', 'screen_name': 'breadcrumbsre', 'location': '', 'description': 'Trying to ask the right questions', 'url': 'https://t.co/HN2QgHvdvg', 'entities': {'url': {'urls': [{'url': 'https://t.co/HN2QgHvdvg', 'expanded_url': 'https://outliers.substack.com/', 'display_url': 'outliers.substack.com', 'indices': [0, 23]}]}, 'description': {'urls': []}}, 'protected': False, 'followers_count': 20003, 'friends_count': 380, 'listed_count': 533, 'created_at': 'Sun Feb 27 22:36:55 +0000 2011', 'favourites_count': 14142, 'utc_offset': None, 'time_zone': None, 'geo_enabled': False, 'verified': False, 'statuses_count': 15892, 'lang': None, 'contributors_enabled': False, 'is_translator': False, 'is_translation_enabled': False, 'profile_background_color': '030302', 'profile_background_image_url': 'http://abs.twimg.com/images/themes/theme1/bg.png', 'profile_background_image_url_https': 'https://abs.twimg.com/images/themes/theme1/bg.png', 'profile_background_tile': False, 'profile_image_url': 'http://pbs.twimg.com/profile_images/1213477197555613697/uF3UaxCr_normal.jpg', 'profile_image_url_https': 'https://pbs.twimg.com/profile_images/1213477197555613697/uF3UaxCr_normal.jpg', 'profile_banner_url': 'https://pbs.twimg.com/profile_banners/258522742/1589189055', 'profile_link_color': '786A55', 'profile_sidebar_border_color': '3C5449', 'profile_sidebar_fill_color': '12291F', 'profile_text_color': '547B61', 'profile_use_background_image': True, 'has_extended_profile': False, 'default_profile': False, 'default_profile_image': False, 'following': True, 'follow_request_sent': False, 'notifications': False, 'translator_type': 'none', 'withheld_in_countries': []}, 'geo': None, 'coordinates': None, 'place': None, 'contributors': None, 'is_quote_status': False, 'retweet_count': 0, 'favorite_count': 1, 'favorited': False, 'retweeted': False, 'possibly_sensitive': False, 'possibly_sensitive_appealable': False, 'lang': 'und'}, created_at=datetime.datetime(2022, 2, 18, 18, 10, 14), id=1494736028720148486, id_str='1494736028720148486', text='🧐 $HZNP https://t.co/fQbBSaX2iq', truncated=False, entities={'hashtags': [], 'symbols': [{'text': 'HZNP', 'indices': [2, 7]}], 'user_mentions': [], 'urls': [], 'media': [{'id': 1494735523801448448, 'id_str': '1494735523801448448', 'indices': [8, 31], 'media_url': 'http://pbs.twimg.com/media/FL5eChlXwAANCsD.png', 'media_url_https': 'https://pbs.twimg.com/media/FL5eChlXwAANCsD.png', 'url': 'https://t.co/fQbBSaX2iq', 'display_url': 'pic.twitter.com/fQbBSaX2iq', 'expanded_url': 'https://twitter.com/breadcrumbsre/status/1494736028720148486/photo/1', 'type': 'photo', 'sizes': {'thumb': {'w': 88, 'h': 88, 'resize': 'crop'}, 'small': {'w': 680, 'h': 41, 'resize': 'fit'}, 'medium': {'w': 1200, 'h': 73, 'resize': 'fit'}, 'large': {'w': 1443, 'h': 88, 'resize': 'fit'}}}]}, extended_entities={'media': [{'id': 1494735523801448448, 'id_str': '1494735523801448448', 'indices': [8, 31], 'media_url': 'http://pbs.twimg.com/media/FL5eChlXwAANCsD.png', 'media_url_https': 'https://pbs.twimg.com/media/FL5eChlXwAANCsD.png', 'url': 'https://t.co/fQbBSaX2iq', 'display_url': 'pic.twitter.com/fQbBSaX2iq', 'expanded_url': 'https://twitter.com/breadcrumbsre/status/1494736028720148486/photo/1', 'type': 'photo', 'sizes': {'thumb': {'w': 88, 'h': 88, 'resize': 'crop'}, 'small': {'w': 680, 'h': 41, 'resize': 'fit'}, 'medium': {'w': 1200, 'h': 73, 'resize': 'fit'}, 'large': {'w': 1443, 'h': 88, 'resize': 'fit'}}}, {'id': 1494735776625668103, 'id_str': '1494735776625668103', 'indices': [8, 31], 'media_url': 'http://pbs.twimg.com/media/FL5eRPbXMAcLNRy.jpg', 'media_url_https': 'https://pbs.twimg.com/media/FL5eRPbXMAcLNRy.jpg', 'url': 'https://t.co/fQbBSaX2iq', 'display_url': 'pic.twitter.com/fQbBSaX2iq', 'expanded_url': 'https://twitter.com/breadcrumbsre/status/1494736028720148486/photo/1', 'type': 'photo', 'sizes': {'thumb': {'w': 150, 'h': 150, 'resize': 'crop'}, 'medium': {'w': 1021, 'h': 746, 'resize': 'fit'}, 'large': {'w': 1021, 'h': 746, 'resize': 'fit'}, 'small': {'w': 680, 'h': 497, 'resize': 'fit'}}}]}, source='Twitter Web App', source_url='https://mobile.twitter.com', in_reply_to_status_id=1494734131997163520, in_reply_to_status_id_str='1494734131997163520', in_reply_to_user_id=258522742, in_reply_to_user_id_str='258522742', in_reply_to_screen_name='breadcrumbsre', author=User(_api=<tweepy.api.API object at 0x7fa001a71290>, _json={'id': 258522742, 'id_str': '258522742', 'name': 'Bread Crumbs Research', 'screen_name': 'breadcrumbsre', 'location': '', 'description': 'Trying to ask the right questions', 'url': 'https://t.co/HN2QgHvdvg', 'entities': {'url': {'urls': [{'url': 'https://t.co/HN2QgHvdvg', 'expanded_url': 'https://outliers.substack.com/', 'display_url': 'outliers.substack.com', 'indices': [0, 23]}]}, 'description': {'urls': []}}, 'protected': False, 'followers_count': 20003, 'friends_count': 380, 'listed_count': 533, 'created_at': 'Sun Feb 27 22:36:55 +0000 2011', 'favourites_count': 14142, 'utc_offset': None, 'time_zone': None, 'geo_enabled': False, 'verified': False, 'statuses_count': 15892, 'lang': None, 'contributors_enabled': False, 'is_translator': False, 'is_translation_enabled': False, 'profile_background_color': '030302', 'profile_background_image_url': 'http://abs.twimg.com/images/themes/theme1/bg.png', 'profile_background_image_url_https': 'https://abs.twimg.com/images/themes/theme1/bg.png', 'profile_background_tile': False, 'profile_image_url': 'http://pbs.twimg.com/profile_images/1213477197555613697/uF3UaxCr_normal.jpg', 'profile_image_url_https': 'https://pbs.twimg.com/profile_images/1213477197555613697/uF3UaxCr_normal.jpg', 'profile_banner_url': 'https://pbs.twimg.com/profile_banners/258522742/1589189055', 'profile_link_color': '786A55', 'profile_sidebar_border_color': '3C5449', 'profile_sidebar_fill_color': '12291F', 'profile_text_color': '547B61', 'profile_use_background_image': True, 'has_extended_profile': False, 'default_profile': False, 'default_profile_image': False, 'following': True, 'follow_request_sent': False, 'notifications': False, 'translator_type': 'none', 'withheld_in_countries': []}, id=258522742, id_str='258522742', name='Bread Crumbs Research', screen_name='breadcrumbsre', location='', description='Trying to ask the right questions', url='https://t.co/HN2QgHvdvg', entities={'url': {'urls': [{'url': 'https://t.co/HN2QgHvdvg', 'expanded_url': 'https://outliers.substack.com/', 'display_url': 'outliers.substack.com', 'indices': [0, 23]}]}, 'description': {'urls': []}}, protected=False, followers_count=20003, friends_count=380, listed_count=533, created_at=datetime.datetime(2011, 2, 27, 22, 36, 55), favourites_count=14142, utc_offset=None, time_zone=None, geo_enabled=False, verified=False, statuses_count=15892, lang=None, contributors_enabled=False, is_translator=False, is_translation_enabled=False, profile_background_color='030302', profile_background_image_url='http://abs.twimg.com/images/themes/theme1/bg.png', profile_background_image_url_https='https://abs.twimg.com/images/themes/theme1/bg.png', profile_background_tile=False, profile_image_url='http://pbs.twimg.com/profile_images/1213477197555613697/uF3UaxCr_normal.jpg', profile_image_url_https='https://pbs.twimg.com/profile_images/1213477197555613697/uF3UaxCr_normal.jpg', profile_banner_url='https://pbs.twimg.com/profile_banners/258522742/1589189055', profile_link_color='786A55', profile_sidebar_border_color='3C5449', profile_sidebar_fill_color='12291F', profile_text_color='547B61', profile_use_background_image=True, has_extended_profile=False, default_profile=False, default_profile_image=False, following=True, follow_request_sent=False, notifications=False, translator_type='none', withheld_in_countries=[]), user=User(_api=<tweepy.api.API object at 0x7fa001a71290>, _json={'id': 258522742, 'id_str': '258522742', 'name': 'Bread Crumbs Research', 'screen_name': 'breadcrumbsre', 'location': '', 'description': 'Trying to ask the right questions', 'url': 'https://t.co/HN2QgHvdvg', 'entities': {'url': {'urls': [{'url': 'https://t.co/HN2QgHvdvg', 'expanded_url': 'https://outliers.substack.com/', 'display_url': 'outliers.substack.com', 'indices': [0, 23]}]}, 'description': {'urls': []}}, 'protected': False, 'followers_count': 20003, 'friends_count': 380, 'listed_count': 533, 'created_at': 'Sun Feb 27 22:36:55 +0000 2011', 'favourites_count': 14142, 'utc_offset': None, 'time_zone': None, 'geo_enabled': False, 'verified': False, 'statuses_count': 15892, 'lang': None, 'contributors_enabled': False, 'is_translator': False, 'is_translation_enabled': False, 'profile_background_color': '030302', 'profile_background_image_url': 'http://abs.twimg.com/images/themes/theme1/bg.png', 'profile_background_image_url_https': 'https://abs.twimg.com/images/themes/theme1/bg.png', 'profile_background_tile': False, 'profile_image_url': 'http://pbs.twimg.com/profile_images/1213477197555613697/uF3UaxCr_normal.jpg', 'profile_image_url_https': 'https://pbs.twimg.com/profile_images/1213477197555613697/uF3UaxCr_normal.jpg', 'profile_banner_url': 'https://pbs.twimg.com/profile_banners/258522742/1589189055', 'profile_link_color': '786A55', 'profile_sidebar_border_color': '3C5449', 'profile_sidebar_fill_color': '12291F', 'profile_text_color': '547B61', 'profile_use_background_image': True, 'has_extended_profile': False, 'default_profile': False, 'default_profile_image': False, 'following': True, 'follow_request_sent': False, 'notifications': False, 'translator_type': 'none', 'withheld_in_countries': []}, id=258522742, id_str='258522742', name='Bread Crumbs Research', screen_name='breadcrumbsre', location='', description='Trying to ask the right questions', url='https://t.co/HN2QgHvdvg', entities={'url': {'urls': [{'url': 'https://t.co/HN2QgHvdvg', 'expanded_url': 'https://outliers.substack.com/', 'display_url': 'outliers.substack.com', 'indices': [0, 23]}]}, 'description': {'urls': []}}, protected=False, followers_count=20003, friends_count=380, listed_count=533, created_at=datetime.datetime(2011, 2, 27, 22, 36, 55), favourites_count=14142, utc_offset=None, time_zone=None, geo_enabled=False, verified=False, statuses_count=15892, lang=None, contributors_enabled=False, is_translator=False, is_translation_enabled=False, profile_background_color='030302', profile_background_image_url='http://abs.twimg.com/images/themes/theme1/bg.png', profile_background_image_url_https='https://abs.twimg.com/images/themes/theme1/bg.png', profile_background_tile=False, profile_image_url='http://pbs.twimg.com/profile_images/1213477197555613697/uF3UaxCr_normal.jpg', profile_image_url_https='https://pbs.twimg.com/profile_images/1213477197555613697/uF3UaxCr_normal.jpg', profile_banner_url='https://pbs.twimg.com/profile_banners/258522742/1589189055', profile_link_color='786A55', profile_sidebar_border_color='3C5449', profile_sidebar_fill_color='12291F', profile_text_color='547B61', profile_use_background_image=True, has_extended_profile=False, default_profile=False, default_profile_image=False, following=True, follow_request_sent=False, notifications=False, translator_type='none', withheld_in_countries=[]), geo=None, coordinates=None, place=None, contributors=None, is_quote_status=False, retweet_count=0, favorite_count=1, favorited=False, retweeted=False, possibly_sensitive=False, possibly_sensitive_appealable=False, lang='und')\n"
          ]
        }
      ]
    },
    {
      "cell_type": "code",
      "source": [
        "# Source: https://stackoverflow.com/questions/27900451/convert-tweepy-status-object-into-json\n",
        "import json\n",
        "print(json.dumps(public_tweets[0]._json, indent=4, sort_keys=True))\n",
        "# print(json.dumps(public_tweets[0], indent=4))"
      ],
      "metadata": {
        "colab": {
          "base_uri": "https://localhost:8080/"
        },
        "id": "a51rdCZrCHsn",
        "outputId": "caeef86c-23da-41f0-c1e4-25ac187704d5"
      },
      "execution_count": 10,
      "outputs": [
        {
          "output_type": "stream",
          "name": "stdout",
          "text": [
            "{\n",
            "    \"contributors\": null,\n",
            "    \"coordinates\": null,\n",
            "    \"created_at\": \"Fri Feb 18 18:10:14 +0000 2022\",\n",
            "    \"entities\": {\n",
            "        \"hashtags\": [],\n",
            "        \"media\": [\n",
            "            {\n",
            "                \"display_url\": \"pic.twitter.com/fQbBSaX2iq\",\n",
            "                \"expanded_url\": \"https://twitter.com/breadcrumbsre/status/1494736028720148486/photo/1\",\n",
            "                \"id\": 1494735523801448448,\n",
            "                \"id_str\": \"1494735523801448448\",\n",
            "                \"indices\": [\n",
            "                    8,\n",
            "                    31\n",
            "                ],\n",
            "                \"media_url\": \"http://pbs.twimg.com/media/FL5eChlXwAANCsD.png\",\n",
            "                \"media_url_https\": \"https://pbs.twimg.com/media/FL5eChlXwAANCsD.png\",\n",
            "                \"sizes\": {\n",
            "                    \"large\": {\n",
            "                        \"h\": 88,\n",
            "                        \"resize\": \"fit\",\n",
            "                        \"w\": 1443\n",
            "                    },\n",
            "                    \"medium\": {\n",
            "                        \"h\": 73,\n",
            "                        \"resize\": \"fit\",\n",
            "                        \"w\": 1200\n",
            "                    },\n",
            "                    \"small\": {\n",
            "                        \"h\": 41,\n",
            "                        \"resize\": \"fit\",\n",
            "                        \"w\": 680\n",
            "                    },\n",
            "                    \"thumb\": {\n",
            "                        \"h\": 88,\n",
            "                        \"resize\": \"crop\",\n",
            "                        \"w\": 88\n",
            "                    }\n",
            "                },\n",
            "                \"type\": \"photo\",\n",
            "                \"url\": \"https://t.co/fQbBSaX2iq\"\n",
            "            }\n",
            "        ],\n",
            "        \"symbols\": [\n",
            "            {\n",
            "                \"indices\": [\n",
            "                    2,\n",
            "                    7\n",
            "                ],\n",
            "                \"text\": \"HZNP\"\n",
            "            }\n",
            "        ],\n",
            "        \"urls\": [],\n",
            "        \"user_mentions\": []\n",
            "    },\n",
            "    \"extended_entities\": {\n",
            "        \"media\": [\n",
            "            {\n",
            "                \"display_url\": \"pic.twitter.com/fQbBSaX2iq\",\n",
            "                \"expanded_url\": \"https://twitter.com/breadcrumbsre/status/1494736028720148486/photo/1\",\n",
            "                \"id\": 1494735523801448448,\n",
            "                \"id_str\": \"1494735523801448448\",\n",
            "                \"indices\": [\n",
            "                    8,\n",
            "                    31\n",
            "                ],\n",
            "                \"media_url\": \"http://pbs.twimg.com/media/FL5eChlXwAANCsD.png\",\n",
            "                \"media_url_https\": \"https://pbs.twimg.com/media/FL5eChlXwAANCsD.png\",\n",
            "                \"sizes\": {\n",
            "                    \"large\": {\n",
            "                        \"h\": 88,\n",
            "                        \"resize\": \"fit\",\n",
            "                        \"w\": 1443\n",
            "                    },\n",
            "                    \"medium\": {\n",
            "                        \"h\": 73,\n",
            "                        \"resize\": \"fit\",\n",
            "                        \"w\": 1200\n",
            "                    },\n",
            "                    \"small\": {\n",
            "                        \"h\": 41,\n",
            "                        \"resize\": \"fit\",\n",
            "                        \"w\": 680\n",
            "                    },\n",
            "                    \"thumb\": {\n",
            "                        \"h\": 88,\n",
            "                        \"resize\": \"crop\",\n",
            "                        \"w\": 88\n",
            "                    }\n",
            "                },\n",
            "                \"type\": \"photo\",\n",
            "                \"url\": \"https://t.co/fQbBSaX2iq\"\n",
            "            },\n",
            "            {\n",
            "                \"display_url\": \"pic.twitter.com/fQbBSaX2iq\",\n",
            "                \"expanded_url\": \"https://twitter.com/breadcrumbsre/status/1494736028720148486/photo/1\",\n",
            "                \"id\": 1494735776625668103,\n",
            "                \"id_str\": \"1494735776625668103\",\n",
            "                \"indices\": [\n",
            "                    8,\n",
            "                    31\n",
            "                ],\n",
            "                \"media_url\": \"http://pbs.twimg.com/media/FL5eRPbXMAcLNRy.jpg\",\n",
            "                \"media_url_https\": \"https://pbs.twimg.com/media/FL5eRPbXMAcLNRy.jpg\",\n",
            "                \"sizes\": {\n",
            "                    \"large\": {\n",
            "                        \"h\": 746,\n",
            "                        \"resize\": \"fit\",\n",
            "                        \"w\": 1021\n",
            "                    },\n",
            "                    \"medium\": {\n",
            "                        \"h\": 746,\n",
            "                        \"resize\": \"fit\",\n",
            "                        \"w\": 1021\n",
            "                    },\n",
            "                    \"small\": {\n",
            "                        \"h\": 497,\n",
            "                        \"resize\": \"fit\",\n",
            "                        \"w\": 680\n",
            "                    },\n",
            "                    \"thumb\": {\n",
            "                        \"h\": 150,\n",
            "                        \"resize\": \"crop\",\n",
            "                        \"w\": 150\n",
            "                    }\n",
            "                },\n",
            "                \"type\": \"photo\",\n",
            "                \"url\": \"https://t.co/fQbBSaX2iq\"\n",
            "            }\n",
            "        ]\n",
            "    },\n",
            "    \"favorite_count\": 1,\n",
            "    \"favorited\": false,\n",
            "    \"geo\": null,\n",
            "    \"id\": 1494736028720148486,\n",
            "    \"id_str\": \"1494736028720148486\",\n",
            "    \"in_reply_to_screen_name\": \"breadcrumbsre\",\n",
            "    \"in_reply_to_status_id\": 1494734131997163520,\n",
            "    \"in_reply_to_status_id_str\": \"1494734131997163520\",\n",
            "    \"in_reply_to_user_id\": 258522742,\n",
            "    \"in_reply_to_user_id_str\": \"258522742\",\n",
            "    \"is_quote_status\": false,\n",
            "    \"lang\": \"und\",\n",
            "    \"place\": null,\n",
            "    \"possibly_sensitive\": false,\n",
            "    \"possibly_sensitive_appealable\": false,\n",
            "    \"retweet_count\": 0,\n",
            "    \"retweeted\": false,\n",
            "    \"source\": \"<a href=\\\"https://mobile.twitter.com\\\" rel=\\\"nofollow\\\">Twitter Web App</a>\",\n",
            "    \"text\": \"\\ud83e\\uddd0 $HZNP https://t.co/fQbBSaX2iq\",\n",
            "    \"truncated\": false,\n",
            "    \"user\": {\n",
            "        \"contributors_enabled\": false,\n",
            "        \"created_at\": \"Sun Feb 27 22:36:55 +0000 2011\",\n",
            "        \"default_profile\": false,\n",
            "        \"default_profile_image\": false,\n",
            "        \"description\": \"Trying to ask the right questions\",\n",
            "        \"entities\": {\n",
            "            \"description\": {\n",
            "                \"urls\": []\n",
            "            },\n",
            "            \"url\": {\n",
            "                \"urls\": [\n",
            "                    {\n",
            "                        \"display_url\": \"outliers.substack.com\",\n",
            "                        \"expanded_url\": \"https://outliers.substack.com/\",\n",
            "                        \"indices\": [\n",
            "                            0,\n",
            "                            23\n",
            "                        ],\n",
            "                        \"url\": \"https://t.co/HN2QgHvdvg\"\n",
            "                    }\n",
            "                ]\n",
            "            }\n",
            "        },\n",
            "        \"favourites_count\": 14142,\n",
            "        \"follow_request_sent\": false,\n",
            "        \"followers_count\": 20003,\n",
            "        \"following\": true,\n",
            "        \"friends_count\": 380,\n",
            "        \"geo_enabled\": false,\n",
            "        \"has_extended_profile\": false,\n",
            "        \"id\": 258522742,\n",
            "        \"id_str\": \"258522742\",\n",
            "        \"is_translation_enabled\": false,\n",
            "        \"is_translator\": false,\n",
            "        \"lang\": null,\n",
            "        \"listed_count\": 533,\n",
            "        \"location\": \"\",\n",
            "        \"name\": \"Bread Crumbs Research\",\n",
            "        \"notifications\": false,\n",
            "        \"profile_background_color\": \"030302\",\n",
            "        \"profile_background_image_url\": \"http://abs.twimg.com/images/themes/theme1/bg.png\",\n",
            "        \"profile_background_image_url_https\": \"https://abs.twimg.com/images/themes/theme1/bg.png\",\n",
            "        \"profile_background_tile\": false,\n",
            "        \"profile_banner_url\": \"https://pbs.twimg.com/profile_banners/258522742/1589189055\",\n",
            "        \"profile_image_url\": \"http://pbs.twimg.com/profile_images/1213477197555613697/uF3UaxCr_normal.jpg\",\n",
            "        \"profile_image_url_https\": \"https://pbs.twimg.com/profile_images/1213477197555613697/uF3UaxCr_normal.jpg\",\n",
            "        \"profile_link_color\": \"786A55\",\n",
            "        \"profile_sidebar_border_color\": \"3C5449\",\n",
            "        \"profile_sidebar_fill_color\": \"12291F\",\n",
            "        \"profile_text_color\": \"547B61\",\n",
            "        \"profile_use_background_image\": true,\n",
            "        \"protected\": false,\n",
            "        \"screen_name\": \"breadcrumbsre\",\n",
            "        \"statuses_count\": 15892,\n",
            "        \"time_zone\": null,\n",
            "        \"translator_type\": \"none\",\n",
            "        \"url\": \"https://t.co/HN2QgHvdvg\",\n",
            "        \"utc_offset\": null,\n",
            "        \"verified\": false,\n",
            "        \"withheld_in_countries\": []\n",
            "    }\n",
            "}\n"
          ]
        }
      ]
    },
    {
      "cell_type": "code",
      "source": [
        ""
      ],
      "metadata": {
        "id": "X9DoIILICi4J"
      },
      "execution_count": null,
      "outputs": []
    }
  ]
}